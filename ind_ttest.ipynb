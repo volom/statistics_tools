{
 "cells": [
  {
   "cell_type": "markdown",
   "metadata": {},
   "source": [
    "                            **INDEPENDENT T-TEST WITH PYTHON**"
   ]
  },
  {
   "cell_type": "markdown",
   "metadata": {},
   "source": [
    "The indepentent T-test is a parametric test used to test for a statistically significant difference in the means between 2 groups. As with all parametric tests, there are certain conditions that need to be met in order for the test results to be considered reliable."
   ]
  },
  {
   "cell_type": "code",
   "execution_count": 1,
   "metadata": {},
   "outputs": [],
   "source": [
    "import pandas as pd\n",
    "import researchpy as rp\n",
    "import scipy.stats as stats"
   ]
  },
  {
   "cell_type": "code",
   "execution_count": 2,
   "metadata": {},
   "outputs": [
    {
     "name": "stdout",
     "output_type": "stream",
     "text": [
      "<class 'pandas.core.frame.DataFrame'>\n",
      "RangeIndex: 120 entries, 0 to 119\n",
      "Data columns (total 5 columns):\n",
      " #   Column     Non-Null Count  Dtype \n",
      "---  ------     --------------  ----- \n",
      " 0   patient    120 non-null    int64 \n",
      " 1   sex        120 non-null    object\n",
      " 2   agegrp     120 non-null    object\n",
      " 3   bp_before  120 non-null    int64 \n",
      " 4   bp_after   120 non-null    int64 \n",
      "dtypes: int64(3), object(2)\n",
      "memory usage: 4.8+ KB\n"
     ]
    }
   ],
   "source": [
    "df = pd.read_csv(\"https://raw.githubusercontent.com/researchpy/Data-sets/master/blood_pressure.csv\")\n",
    "df.info()"
   ]
  },
  {
   "cell_type": "markdown",
   "metadata": {},
   "source": [
    "# INDEPENDENT T-TEST USING RESEARCHPY"
   ]
  },
  {
   "cell_type": "markdown",
   "metadata": {},
   "source": [
    "The method returns 2 data frames, one that contains the summary statistical information and the other that contains the statistical test information. If the returned data frames are not stored as a Python object then the output will be less clean than it can be since it will be displayed as a tuple - see below.\n",
    "\n"
   ]
  },
  {
   "cell_type": "code",
   "execution_count": 17,
   "metadata": {},
   "outputs": [
    {
     "name": "stderr",
     "output_type": "stream",
     "text": [
      "/opt/homebrew/anaconda3/lib/python3.8/site-packages/researchpy/ttest.py:38: FutureWarning: The series.append method is deprecated and will be removed from pandas in a future version. Use pandas.concat instead.\n",
      "  groups = group1.append(group2, ignore_index= True)\n"
     ]
    },
    {
     "data": {
      "text/plain": [
       "(   Variable      N        Mean         SD        SE   95% Conf.    Interval\n",
       " 0      Male   60.0  155.516667  15.243217  1.967891  151.578926  159.454407\n",
       " 1    Female   60.0  147.200000  11.742722  1.515979  144.166533  150.233467\n",
       " 2  combined  120.0  151.358333  14.177622  1.294234  148.795621  153.921046,\n",
       "               Independent t-test   results\n",
       " 0  Difference (Male - Female) =     8.3167\n",
       " 1          Degrees of freedom =   118.0000\n",
       " 2                           t =     3.3480\n",
       " 3       Two side test p value =     0.0011\n",
       " 4      Difference < 0 p value =     0.9995\n",
       " 5      Difference > 0 p value =     0.0005\n",
       " 6                   Cohen's d =     0.6112\n",
       " 7                   Hedge's g =     0.6074\n",
       " 8              Glass's delta1 =     0.5456\n",
       " 9            Point-Biserial r =     0.2945)"
      ]
     },
     "execution_count": 17,
     "metadata": {},
     "output_type": "execute_result"
    }
   ],
   "source": [
    "rp.ttest(group1= df['bp_after'][df['sex'] == 'Male'], group1_name= \"Male\",\n",
    "         group2= df['bp_after'][df['sex'] == 'Female'], group2_name= \"Female\")"
   ]
  },
  {
   "cell_type": "markdown",
   "metadata": {},
   "source": [
    "If stored as Python objects, they will be stored as Pandas data frames. This means that anything that can be done to a traditional Pandas data frame can be done to these results."
   ]
  },
  {
   "cell_type": "code",
   "execution_count": 14,
   "metadata": {},
   "outputs": [
    {
     "name": "stderr",
     "output_type": "stream",
     "text": [
      "/opt/homebrew/anaconda3/lib/python3.8/site-packages/researchpy/ttest.py:38: FutureWarning: The series.append method is deprecated and will be removed from pandas in a future version. Use pandas.concat instead.\n",
      "  groups = group1.append(group2, ignore_index= True)\n"
     ]
    },
    {
     "data": {
      "text/html": [
       "<div>\n",
       "<style scoped>\n",
       "    .dataframe tbody tr th:only-of-type {\n",
       "        vertical-align: middle;\n",
       "    }\n",
       "\n",
       "    .dataframe tbody tr th {\n",
       "        vertical-align: top;\n",
       "    }\n",
       "\n",
       "    .dataframe thead th {\n",
       "        text-align: right;\n",
       "    }\n",
       "</style>\n",
       "<table border=\"1\" class=\"dataframe\">\n",
       "  <thead>\n",
       "    <tr style=\"text-align: right;\">\n",
       "      <th></th>\n",
       "      <th>Variable</th>\n",
       "      <th>N</th>\n",
       "      <th>Mean</th>\n",
       "      <th>SD</th>\n",
       "      <th>SE</th>\n",
       "      <th>95% Conf.</th>\n",
       "      <th>Interval</th>\n",
       "    </tr>\n",
       "  </thead>\n",
       "  <tbody>\n",
       "    <tr>\n",
       "      <th>0</th>\n",
       "      <td>Male</td>\n",
       "      <td>60.0</td>\n",
       "      <td>155.516667</td>\n",
       "      <td>15.243217</td>\n",
       "      <td>1.967891</td>\n",
       "      <td>151.578926</td>\n",
       "      <td>159.454407</td>\n",
       "    </tr>\n",
       "    <tr>\n",
       "      <th>1</th>\n",
       "      <td>Female</td>\n",
       "      <td>60.0</td>\n",
       "      <td>147.200000</td>\n",
       "      <td>11.742722</td>\n",
       "      <td>1.515979</td>\n",
       "      <td>144.166533</td>\n",
       "      <td>150.233467</td>\n",
       "    </tr>\n",
       "    <tr>\n",
       "      <th>2</th>\n",
       "      <td>combined</td>\n",
       "      <td>120.0</td>\n",
       "      <td>151.358333</td>\n",
       "      <td>14.177622</td>\n",
       "      <td>1.294234</td>\n",
       "      <td>148.795621</td>\n",
       "      <td>153.921046</td>\n",
       "    </tr>\n",
       "  </tbody>\n",
       "</table>\n",
       "</div>"
      ],
      "text/plain": [
       "   Variable      N        Mean         SD        SE   95% Conf.    Interval\n",
       "0      Male   60.0  155.516667  15.243217  1.967891  151.578926  159.454407\n",
       "1    Female   60.0  147.200000  11.742722  1.515979  144.166533  150.233467\n",
       "2  combined  120.0  151.358333  14.177622  1.294234  148.795621  153.921046"
      ]
     },
     "execution_count": 14,
     "metadata": {},
     "output_type": "execute_result"
    }
   ],
   "source": [
    "summary, results = rp.ttest(group1= df['bp_after'][df['sex'] == 'Male'], group1_name= \"Male\",\n",
    "                            group2= df['bp_after'][df['sex'] == 'Female'], group2_name= \"Female\")\n",
    "pd.DataFrame(summary)"
   ]
  },
  {
   "cell_type": "code",
   "execution_count": 15,
   "metadata": {},
   "outputs": [
    {
     "data": {
      "text/html": [
       "<div>\n",
       "<style scoped>\n",
       "    .dataframe tbody tr th:only-of-type {\n",
       "        vertical-align: middle;\n",
       "    }\n",
       "\n",
       "    .dataframe tbody tr th {\n",
       "        vertical-align: top;\n",
       "    }\n",
       "\n",
       "    .dataframe thead th {\n",
       "        text-align: right;\n",
       "    }\n",
       "</style>\n",
       "<table border=\"1\" class=\"dataframe\">\n",
       "  <thead>\n",
       "    <tr style=\"text-align: right;\">\n",
       "      <th></th>\n",
       "      <th>Independent t-test</th>\n",
       "      <th>results</th>\n",
       "    </tr>\n",
       "  </thead>\n",
       "  <tbody>\n",
       "    <tr>\n",
       "      <th>0</th>\n",
       "      <td>Difference (Male - Female) =</td>\n",
       "      <td>8.3167</td>\n",
       "    </tr>\n",
       "    <tr>\n",
       "      <th>1</th>\n",
       "      <td>Degrees of freedom =</td>\n",
       "      <td>118.0000</td>\n",
       "    </tr>\n",
       "    <tr>\n",
       "      <th>2</th>\n",
       "      <td>t =</td>\n",
       "      <td>3.3480</td>\n",
       "    </tr>\n",
       "    <tr>\n",
       "      <th>3</th>\n",
       "      <td>Two side test p value =</td>\n",
       "      <td>0.0011</td>\n",
       "    </tr>\n",
       "    <tr>\n",
       "      <th>4</th>\n",
       "      <td>Difference &lt; 0 p value =</td>\n",
       "      <td>0.9995</td>\n",
       "    </tr>\n",
       "    <tr>\n",
       "      <th>5</th>\n",
       "      <td>Difference &gt; 0 p value =</td>\n",
       "      <td>0.0005</td>\n",
       "    </tr>\n",
       "    <tr>\n",
       "      <th>6</th>\n",
       "      <td>Cohen's d =</td>\n",
       "      <td>0.6112</td>\n",
       "    </tr>\n",
       "    <tr>\n",
       "      <th>7</th>\n",
       "      <td>Hedge's g =</td>\n",
       "      <td>0.6074</td>\n",
       "    </tr>\n",
       "    <tr>\n",
       "      <th>8</th>\n",
       "      <td>Glass's delta1 =</td>\n",
       "      <td>0.5456</td>\n",
       "    </tr>\n",
       "    <tr>\n",
       "      <th>9</th>\n",
       "      <td>Point-Biserial r =</td>\n",
       "      <td>0.2945</td>\n",
       "    </tr>\n",
       "  </tbody>\n",
       "</table>\n",
       "</div>"
      ],
      "text/plain": [
       "              Independent t-test   results\n",
       "0  Difference (Male - Female) =     8.3167\n",
       "1          Degrees of freedom =   118.0000\n",
       "2                           t =     3.3480\n",
       "3       Two side test p value =     0.0011\n",
       "4      Difference < 0 p value =     0.9995\n",
       "5      Difference > 0 p value =     0.0005\n",
       "6                   Cohen's d =     0.6112\n",
       "7                   Hedge's g =     0.6074\n",
       "8              Glass's delta1 =     0.5456\n",
       "9            Point-Biserial r =     0.2945"
      ]
     },
     "execution_count": 15,
     "metadata": {},
     "output_type": "execute_result"
    }
   ],
   "source": [
    "pd.DataFrame(results)"
   ]
  },
  {
   "cell_type": "markdown",
   "metadata": {},
   "source": [
    "Before the results should be interpreted, the assumptions of the test should be checked. For example purposes, the results will be interpreted before checking the assumptions."
   ]
  },
  {
   "cell_type": "markdown",
   "metadata": {},
   "source": [
    "**Interpretation**\n",
    "\n",
    "The average blood pressure after the treatment for males, M= 155.2 (151.6, 159.5), was statistically signigicantly higher than females, M= 147.2 (144.2, 150.2); t(118)= 3.3480, p= 0.001."
   ]
  },
  {
   "cell_type": "markdown",
   "metadata": {},
   "source": [
    "# INDEPENDENT T-TEST USING SCIPY.STATS"
   ]
  },
  {
   "cell_type": "markdown",
   "metadata": {},
   "source": [
    "This method conducts the independent sample t-test and returns only the t test statistic and it's associated p-value. For more information about this method, please refer to the official documentation page. \n",
    "https://docs.scipy.org/doc/scipy/reference/generated/scipy.stats.ttest_ind.html"
   ]
  },
  {
   "cell_type": "code",
   "execution_count": 6,
   "metadata": {},
   "outputs": [
    {
     "data": {
      "text/plain": [
       "Ttest_indResult(statistic=3.3479506182111387, pvalue=0.0010930222986154283)"
      ]
     },
     "execution_count": 6,
     "metadata": {},
     "output_type": "execute_result"
    }
   ],
   "source": [
    "stats.ttest_ind(df['bp_after'][df['sex'] == 'Male'],\n",
    "                df['bp_after'][df['sex'] == 'Female'])"
   ]
  },
  {
   "cell_type": "code",
   "execution_count": null,
   "metadata": {},
   "outputs": [],
   "source": [
    "stats.ttest_ind(df['bp_after'][df['sex'] == 'Male'],\n",
    "                df['bp_after'][df['sex'] == 'Female'])"
   ]
  },
  {
   "cell_type": "markdown",
   "metadata": {},
   "source": [
    "**Interpretation**\n",
    "\n",
    "There is a statistically significant difference in the average post blood pressure between males and females, t= 3.3480, p= 0.001."
   ]
  },
  {
   "cell_type": "markdown",
   "metadata": {},
   "source": [
    "# ASSUMPTION CHECK"
   ]
  },
  {
   "cell_type": "markdown",
   "metadata": {},
   "source": [
    "The assumptions in this section need to be met in order for the test results to be considered valid. A more in-depth look at parametric assumptions is provided here, which includes some potential remedies."
   ]
  },
  {
   "cell_type": "markdown",
   "metadata": {},
   "source": [
    "**THE TWO SAMPLES ARE INDEPENDENT**"
   ]
  },
  {
   "cell_type": "markdown",
   "metadata": {},
   "source": [
    "This assumption is tested when the study is designed. What this means is that no individual has data in group A and B."
   ]
  },
  {
   "cell_type": "markdown",
   "metadata": {},
   "source": [
    "**POPULATION DISTRIBUTIONS ARE NORMAL**"
   ]
  },
  {
   "cell_type": "markdown",
   "metadata": {},
   "source": [
    "One of the assumptions is that the sampling distribution is normally distributed. This test of normality applies to the difference in values between the groups. One method for testing this assumption is the Shapiro-Wilk test. This can be completed using the shapiro() method from Scipy.stats."
   ]
  },
  {
   "cell_type": "code",
   "execution_count": 7,
   "metadata": {},
   "outputs": [
    {
     "data": {
      "text/plain": [
       "ShapiroResult(statistic=0.98586106300354, pvalue=0.7147841453552246)"
      ]
     },
     "execution_count": 7,
     "metadata": {},
     "output_type": "execute_result"
    }
   ],
   "source": [
    "sampling_difference = df['bp_after'][df['sex'] == 'Male'].values - \\\n",
    "                      df['bp_after'][df['sex'] == 'Female'].values\n",
    "\n",
    "stats.shapiro(sampling_difference)"
   ]
  },
  {
   "cell_type": "markdown",
   "metadata": {},
   "source": [
    "Unfortunately, the output is not labelled but is in the format of (W test statistic, p-value). The test is not significant which indicates the sampling distribution is normally distributed."
   ]
  },
  {
   "cell_type": "markdown",
   "metadata": {},
   "source": [
    "Another way to test the assumption is through a visual check- this is helpful when the sample is large. The reason this is true is that as the sample size increases, the statistical test's ability to reject the null hypothesis increases, i.e. it gains power to detect smaller differences as the sample size n increases.\n",
    "\n",
    "One method of visually checking the distribution is to use a probability plot with or without the correlation value, , to assess the observed values correlation with the theoretical distribution in question - in the current case it would be the Gaussian (a.k.a the normal) distribution. This can be completed by using the probplot() method from Scipy.stats."
   ]
  },
  {
   "cell_type": "code",
   "execution_count": 9,
   "metadata": {},
   "outputs": [
    {
     "data": {
      "image/png": "[encoded data removed]",
      "text/plain": [
       "<Figure size 1440x720 with 1 Axes>"
      ]
     },
     "metadata": {
      "needs_background": "light"
     },
     "output_type": "display_data"
    }
   ],
   "source": [
    "import matplotlib.pyplot as plt\n",
    "fig = plt.figure(figsize= (20, 10))\n",
    "ax = fig.add_subplot(111)\n",
    "\n",
    "normality_plot, stat = stats.probplot(sampling_difference, plot= plt, rvalue= True)\n",
    "ax.set_title(\"Probability plot of sampling difference\", fontsize= 20)\n",
    "ax.set\n",
    "\n",
    "plt.show()"
   ]
  },
  {
   "cell_type": "markdown",
   "metadata": {},
   "source": [
    "**HOMOGENEITY OF VARIANCE**"
   ]
  },
  {
   "cell_type": "code",
   "execution_count": 10,
   "metadata": {},
   "outputs": [
    {
     "data": {
      "text/plain": [
       "LeveneResult(statistic=5.865854141268659, pvalue=0.01695904277978066)"
      ]
     },
     "execution_count": 10,
     "metadata": {},
     "output_type": "execute_result"
    }
   ],
   "source": [
    "stats.levene(df['bp_after'][df['sex'] == 'Male'],\n",
    "             df['bp_after'][df['sex'] == 'Female'],\n",
    "             center= 'mean')"
   ]
  },
  {
   "cell_type": "markdown",
   "metadata": {},
   "source": [
    "The test is significant which indicates the groups have a different amount of variation and that the t-test may not be the best statistical method to be used. Again, it may be worthwhile to check this assumption visually as well."
   ]
  },
  {
   "cell_type": "code",
   "execution_count": 12,
   "metadata": {},
   "outputs": [
    {
     "data": {
      "image/png": "[encoded data removed]",
      "text/plain": [
       "<Figure size 1440x720 with 1 Axes>"
      ]
     },
     "metadata": {
      "needs_background": "light"
     },
     "output_type": "display_data"
    }
   ],
   "source": [
    "fig = plt.figure(figsize= (20, 10))\n",
    "ax = fig.add_subplot(111)\n",
    "\n",
    "\n",
    "p_bp_male = plt.hist(df['bp_after'][df['sex'] == 'Male'], label= \"Male\",\n",
    "                     density= True,\n",
    "                     alpha=0.75)\n",
    "p_bp_female = plt.hist(df['bp_after'][df['sex'] == 'Female'], label= \"Female\",\n",
    "                       density= True,\n",
    "                       alpha=0.75)\n",
    "\n",
    "\n",
    "plt.suptitle(\"Distribution of Post-Blood Pressure \\n between Males and Females\", fontsize= 20)\n",
    "plt.xlabel(\"Blood Pressure\", fontsize= 16)\n",
    "plt.ylabel(\"Probability density\", fontsize= 16)\n",
    "\n",
    "plt.text(133, .025,\n",
    "         f\"$\\mu= {df['bp_after'][df['sex'] == 'Female'].mean(): .1f}, \\ \\sigma= {df['bp_after'][df['sex'] == 'Female'].std(): .1f}$\")\n",
    "plt.text(160, .025,\n",
    "         f\"$\\mu= {df['bp_after'][df['sex'] == 'Male'].mean(): .1f}, \\ \\sigma= {df['bp_after'][df['sex'] == 'Male'].std(): .1f}$\")\n",
    "\n",
    "ax.legend()\n",
    "plt.show()"
   ]
  },
  {
   "cell_type": "markdown",
   "metadata": {},
   "source": [
    "There are different ways to handle heteroskedasticity (unequal variance) and a decision needs to be made. Some options include, but is not limited to, transformming the dependent variable (outcome), could use trimmed means, robust standard errors, or use a parametric test suchs as the Welch's t-test."
   ]
  }
 ],
 "metadata": {
  "kernelspec": {
   "display_name": "Python 3.8.5",
   "language": "python",
   "name": "python3"
  },
  "language_info": {
   "codemirror_mode": {
    "name": "ipython",
    "version": 3
   },
   "file_extension": ".py",
   "mimetype": "text/x-python",
   "name": "python",
   "nbconvert_exporter": "python",
   "pygments_lexer": "ipython3",
   "version": "3.8.5"
  },
  "orig_nbformat": 4,
  "vscode": {
   "interpreter": {
    "hash": "38cca0c38332a56087b24af0bc80247f4fced29cb4f7f437d91dc159adec9c4e"
   }
  }
 },
 "nbformat": 4,
 "nbformat_minor": 2
}
